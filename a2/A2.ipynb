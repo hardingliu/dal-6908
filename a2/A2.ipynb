{
 "cells": [
  {
   "cell_type": "markdown",
   "metadata": {
    "colab_type": "text",
    "id": "JLrHFHoMHI3g"
   },
   "source": [
    "# <center>Assignment 2</center>"
   ]
  },
  {
   "cell_type": "markdown",
   "metadata": {
    "colab_type": "text",
    "id": "f1v-gL4cHI3h"
   },
   "source": [
    "This assignment is based on the tensorflow tutorial. You can choose to code in Python2 or Python3. All the imports made in this notebook are as below; if these imports work, you are (mostly) set to complete the assignment."
   ]
  },
  {
   "cell_type": "code",
   "execution_count": 1,
   "metadata": {
    "colab": {
     "autoexec": {
      "startup": false,
      "wait_interval": 0
     }
    },
    "colab_type": "code",
    "id": "_ccE1kI0HI3i"
   },
   "outputs": [],
   "source": [
    "from __future__ import print_function,division\n",
    "import random \n",
    "import tensorflow as tf\n",
    "import numpy as np"
   ]
  },
  {
   "cell_type": "markdown",
   "metadata": {
    "colab_type": "text",
    "id": "vWzfE86tusct"
   },
   "source": [
    "## Tensorflow - Matrix Operations"
   ]
  },
  {
   "cell_type": "markdown",
   "metadata": {
    "colab_type": "text",
    "id": "fVYXpj5bHI3m"
   },
   "source": [
    "All the following questions should be solved without using any of python's in-built control structures : for, while, if-else, etc. In addition to the tutorial material, you may find these functions useful:\n",
    "* tf.cast\n",
    "* tf.range\n",
    "* tf.pow\n",
    "\n",
    "Also, the following functions are used in later part of the assignment: tf.sqrt and tf.square. "
   ]
  },
  {
   "cell_type": "markdown",
   "metadata": {
    "colab_type": "text",
    "id": "zF2qLN2wHI3n"
   },
   "source": [
    "### 1. Alternating addition"
   ]
  },
  {
   "cell_type": "code",
   "execution_count": 2,
   "metadata": {
    "colab": {
     "autoexec": {
      "startup": false,
      "wait_interval": 0
     }
    },
    "colab_type": "code",
    "id": "XRnQN-v_HI3p"
   },
   "outputs": [],
   "source": [
    "def alt_addition():\n",
    "    \"\"\"\n",
    "        Given a 1d-matrix of 1 x n, compute the alternating addition.\n",
    "        Ex: If A is\n",
    "        1 2 3 4 5 6 7 8 9\n",
    "        the return value should be 1 - 2 + 3 - 4 + 5 - 6 + 7 - 8 + 9.\n",
    "        Your solution shouldn't include the use of tf.where or tf.boolean_mask. \n",
    "        It should include only mathematical operations.\n",
    "    \"\"\"\n",
    "    A = tf.placeholder(dtype=tf.float64,shape=[1,None])\n",
    "    # Write code to compute B.\n",
    "    B = tf.add(tf.reduce_sum(A[0, ::2]), tf.reduce_sum(A[0, 1::2] * -1))\n",
    "    return A,B"
   ]
  },
  {
   "cell_type": "code",
   "execution_count": 3,
   "metadata": {
    "colab": {
     "autoexec": {
      "startup": false,
      "wait_interval": 0
     }
    },
    "colab_type": "code",
    "id": "oYdnpKb9HI3r"
   },
   "outputs": [],
   "source": [
    "A,B = alt_addition()"
   ]
  },
  {
   "cell_type": "code",
   "execution_count": 4,
   "metadata": {
    "colab": {
     "autoexec": {
      "startup": false,
      "wait_interval": 0
     }
    },
    "colab_type": "code",
    "id": "DfONnxCQHI3t"
   },
   "outputs": [
    {
     "name": "stdout",
     "output_type": "stream",
     "text": [
      "Correct!\n",
      "Correct!\n",
      "Correct!\n",
      "Correct!\n",
      "Correct!\n"
     ]
    }
   ],
   "source": [
    "# Just run this cell after completing the function alt_addition.\n",
    "def compute_alt(array):\n",
    "    sum_ = 0\n",
    "    for ind,i in enumerate(array):\n",
    "        if ind%2 == 0:\n",
    "            sum_ += i\n",
    "        else:\n",
    "            sum_ -= i\n",
    "    return sum_\n",
    "sess = tf.InteractiveSession()\n",
    "for num in [5,10,13,20,100]:\n",
    "    x = np.random.randn(num)\n",
    "    b = sess.run(B,feed_dict={A:x.reshape([1,-1])})\n",
    "    sum_ = compute_alt(x)\n",
    "    if abs(b - sum_) < 10**-10:\n",
    "        print(\"Correct!\")\n",
    "    else:\n",
    "        print(\"Incorrect.\")"
   ]
  },
  {
   "cell_type": "markdown",
   "metadata": {
    "colab_type": "text",
    "id": "dp0kSC_IHI3v"
   },
   "source": [
    "## 2. Odd Square and Even Cube"
   ]
  },
  {
   "cell_type": "code",
   "execution_count": 5,
   "metadata": {
    "colab": {
     "autoexec": {
      "startup": false,
      "wait_interval": 0
     }
    },
    "colab_type": "code",
    "id": "1VpsEt5eHI3v"
   },
   "outputs": [],
   "source": [
    "def sq_cube():\n",
    "    \"\"\"\n",
    "    Given a 2-d matrix of dimensions N x N, square the odd elements and cube the even elements.\n",
    "    Your solution shouldn't include the use of tf.where or tf.boolean_mask. \n",
    "    It should include only mathematical operations.\n",
    "    \"\"\"\n",
    "    A = tf.placeholder(dtype=tf.float64,shape=[None,None])\n",
    "    # B = None\n",
    "    B = tf.mod(x=A, y=tf.constant(2, dtype=tf.float64)) * tf.pow(x=A, y=tf.constant(2, dtype=tf.float64)) + (1 - tf.mod(x=A, y=tf.constant(2, dtype=tf.float64))) * tf.pow(x=A, y=tf.constant(3, dtype=tf.float64))\n",
    "    return A,B"
   ]
  },
  {
   "cell_type": "code",
   "execution_count": 6,
   "metadata": {
    "colab": {
     "autoexec": {
      "startup": false,
      "wait_interval": 0
     }
    },
    "colab_type": "code",
    "id": "mOxsb_GOHI3y"
   },
   "outputs": [],
   "source": [
    "A,B = sq_cube()"
   ]
  },
  {
   "cell_type": "code",
   "execution_count": 7,
   "metadata": {
    "colab": {
     "autoexec": {
      "startup": false,
      "wait_interval": 0
     }
    },
    "colab_type": "code",
    "id": "Y5Q8BdQTHI3z"
   },
   "outputs": [
    {
     "name": "stdout",
     "output_type": "stream",
     "text": [
      "Correct!\n",
      "Correct!\n",
      "Correct!\n"
     ]
    },
    {
     "name": "stderr",
     "output_type": "stream",
     "text": [
      "/usr/local/lib/python3.6/site-packages/tensorflow/python/client/session.py:1714: UserWarning: An interactive session is already active. This can cause out-of-memory errors in some cases. You must explicitly call `InteractiveSession.close()` to release resources held by the other session(s).\n",
      "  warnings.warn('An interactive session is already active. This can '\n"
     ]
    }
   ],
   "source": [
    "# Just run this cell after completing the function sq_cube.\n",
    "def compute_sq_cube(array):\n",
    "    m = [[0 for _ in range(len(array[0]))] for _ in range(len(array))]\n",
    "    for row_ in range(len(array)):\n",
    "        for col_ in range(len(array[row_])):\n",
    "            m[row_][col_] = array[row_][col_]**3 if array[row_][col_]%2==0 else array[row_][col_]**2\n",
    "    return m\n",
    "sess = tf.InteractiveSession()\n",
    "for num in [5,10,20]:\n",
    "    x = np.array(range(num*num)).reshape([num,num])\n",
    "    b = sess.run(B,feed_dict={A:x})\n",
    "    res = compute_sq_cube(x.tolist())\n",
    "    if (abs(b - res) < 10**-10).all():\n",
    "        print(\"Correct!\")\n",
    "    else:\n",
    "        print(\"Incorrect.\")"
   ]
  },
  {
   "cell_type": "markdown",
   "metadata": {
    "colab_type": "text",
    "id": "A8JgEswBHI32"
   },
   "source": [
    "## 3. Tensorflow differentiation"
   ]
  },
  {
   "cell_type": "markdown",
   "metadata": {
    "colab_type": "text",
    "id": "1kCk5IveHI33"
   },
   "source": [
    "In this question, you will learn about tf.gradients. Essentially, tf.gradients(p,q) gives dp/dq. "
   ]
  },
  {
   "cell_type": "code",
   "execution_count": 12,
   "metadata": {
    "colab": {
     "autoexec": {
      "startup": false,
      "wait_interval": 0
     }
    },
    "colab_type": "code",
    "id": "OnI5N3q9HI33"
   },
   "outputs": [],
   "source": [
    "x = tf.placeholder(tf.float32)\n",
    "y = tf.sqrt(tf.square(x))\n",
    "dy_dx = tf.gradients(y,x)"
   ]
  },
  {
   "cell_type": "markdown",
   "metadata": {
    "colab_type": "text",
    "id": "vkyKbw87HI36"
   },
   "source": [
    "Essentially, y = x. And, as you know dy/dx = 1.  "
   ]
  },
  {
   "cell_type": "code",
   "execution_count": 13,
   "metadata": {
    "colab": {
     "autoexec": {
      "startup": false,
      "wait_interval": 0
     },
     "base_uri": "https://localhost:8080/",
     "height": 34
    },
    "colab_type": "code",
    "executionInfo": {
     "elapsed": 407,
     "status": "ok",
     "timestamp": 1527048932826,
     "user": {
      "displayName": "Chandramouli Shama Sastry",
      "photoUrl": "//lh5.googleusercontent.com/-bmEv2d9GMso/AAAAAAAAAAI/AAAAAAAAR20/37jyNvHZ_7o/s50-c-k-no/photo.jpg",
      "userId": "107292938983801620650"
     },
     "user_tz": 180
    },
    "id": "E7tOERJIHI37",
    "outputId": "cbc24ae7-a6a9-41a8-927a-6f3665d747f9"
   },
   "outputs": [
    {
     "data": {
      "text/plain": [
       "[1.0]"
      ]
     },
     "execution_count": 13,
     "metadata": {},
     "output_type": "execute_result"
    }
   ],
   "source": [
    "sess = tf.Session()\n",
    "sess.run(dy_dx,feed_dict={x:10})"
   ]
  },
  {
   "cell_type": "markdown",
   "metadata": {
    "colab_type": "text",
    "id": "TUoV3AeSHI39"
   },
   "source": [
    "And it is 1! Now, let's try for some other values"
   ]
  },
  {
   "cell_type": "code",
   "execution_count": 14,
   "metadata": {
    "colab": {
     "autoexec": {
      "startup": false,
      "wait_interval": 0
     },
     "base_uri": "https://localhost:8080/",
     "height": 34
    },
    "colab_type": "code",
    "executionInfo": {
     "elapsed": 290,
     "status": "ok",
     "timestamp": 1527048935037,
     "user": {
      "displayName": "Chandramouli Shama Sastry",
      "photoUrl": "//lh5.googleusercontent.com/-bmEv2d9GMso/AAAAAAAAAAI/AAAAAAAAR20/37jyNvHZ_7o/s50-c-k-no/photo.jpg",
      "userId": "107292938983801620650"
     },
     "user_tz": 180
    },
    "id": "qM2fZcRIHI3-",
    "outputId": "27f08cbe-10bc-4556-f0f6-53acda7c3688"
   },
   "outputs": [
    {
     "data": {
      "text/plain": [
       "[nan]"
      ]
     },
     "execution_count": 14,
     "metadata": {},
     "output_type": "execute_result"
    }
   ],
   "source": [
    "sess.run(dy_dx,feed_dict={x:0})"
   ]
  },
  {
   "cell_type": "code",
   "execution_count": 15,
   "metadata": {
    "colab": {
     "autoexec": {
      "startup": false,
      "wait_interval": 0
     },
     "base_uri": "https://localhost:8080/",
     "height": 34
    },
    "colab_type": "code",
    "executionInfo": {
     "elapsed": 384,
     "status": "ok",
     "timestamp": 1527048938024,
     "user": {
      "displayName": "Chandramouli Shama Sastry",
      "photoUrl": "//lh5.googleusercontent.com/-bmEv2d9GMso/AAAAAAAAAAI/AAAAAAAAR20/37jyNvHZ_7o/s50-c-k-no/photo.jpg",
      "userId": "107292938983801620650"
     },
     "user_tz": 180
    },
    "id": "WRq9u71JHI4A",
    "outputId": "bed0017e-8609-42df-db09-6dbae81aa6a7"
   },
   "outputs": [
    {
     "data": {
      "text/plain": [
       "[inf]"
      ]
     },
     "execution_count": 15,
     "metadata": {},
     "output_type": "execute_result"
    }
   ],
   "source": [
    "sess.run(dy_dx,feed_dict={x:10**-20})"
   ]
  },
  {
   "cell_type": "markdown",
   "metadata": {
    "colab_type": "text",
    "id": "MJQ2--2mHI4C"
   },
   "source": [
    "Oops! We got nan and inf even though the derivative(limit) exists!! Explain why.\n",
    "\n",
    "<b>Answer:</b> <i>This is because TensorFlow builds computation graph first, then use the feeded values (when we are using placeholders) to do computation. Internally, y is defined as: squaring the x first, then squaring root it. According to the doc of tf.gradients, it constructs symbolic derivatives of sum of ys w.r.t. x in xs. Thus, when it computes dy_dx, it will first compute the derivate of sqrt(x) with respect to x, then compute the derivate of x^2 with respect to x, finally multiply the two values. Thus, when we feed 0 to x, it will become 0 * inf, which gives nan. When we feed an extreme small value to x, it will give us inf.</i>\n",
    "\n",
    "\n",
    "Further, come up with another function of x which shows similar behavior and demonstrate it below. Do not use trivial modifications of the above function like (x\\*\\*3)**1/3. In other words, demonstrate a function which gives the derivative as equal to nan/inf even though the derivative is defined. "
   ]
  },
  {
   "cell_type": "markdown",
   "metadata": {},
   "source": [
    "<b>This function below should have derivative with respect to x of the value 2/x.</b>"
   ]
  },
  {
   "cell_type": "code",
   "execution_count": 39,
   "metadata": {
    "colab": {
     "autoexec": {
      "startup": false,
      "wait_interval": 0
     }
    },
    "colab_type": "code",
    "id": "h1h_avVbHI4C"
   },
   "outputs": [],
   "source": [
    "x = tf.placeholder(tf.float32)\n",
    "y = tf.log(tf.square(x))\n",
    "dy_dx = tf.gradients(y, x)"
   ]
  },
  {
   "cell_type": "code",
   "execution_count": 40,
   "metadata": {},
   "outputs": [
    {
     "data": {
      "text/plain": [
       "[0.19999999]"
      ]
     },
     "execution_count": 40,
     "metadata": {},
     "output_type": "execute_result"
    }
   ],
   "source": [
    "sess.run(dy_dx, feed_dict={x:10})"
   ]
  },
  {
   "cell_type": "code",
   "execution_count": 41,
   "metadata": {},
   "outputs": [
    {
     "data": {
      "text/plain": [
       "[nan]"
      ]
     },
     "execution_count": 41,
     "metadata": {},
     "output_type": "execute_result"
    }
   ],
   "source": [
    "sess.run(dy_dx, feed_dict={x:0})"
   ]
  },
  {
   "cell_type": "code",
   "execution_count": 42,
   "metadata": {},
   "outputs": [
    {
     "data": {
      "text/plain": [
       "[inf]"
      ]
     },
     "execution_count": 42,
     "metadata": {},
     "output_type": "execute_result"
    }
   ],
   "source": [
    "sess.run(dy_dx, feed_dict={x:10**-20})"
   ]
  },
  {
   "cell_type": "markdown",
   "metadata": {
    "colab_type": "text",
    "id": "quJmBUClMzSj"
   },
   "source": [
    "## Links"
   ]
  },
  {
   "cell_type": "code",
   "execution_count": null,
   "metadata": {
    "colab": {
     "autoexec": {
      "startup": false,
      "wait_interval": 0
     }
    },
    "colab_type": "code",
    "id": "2bsPZRfQM2X6"
   },
   "outputs": [],
   "source": []
  }
 ],
 "metadata": {
  "colab": {
   "collapsed_sections": [],
   "default_view": {},
   "name": "A2.ipynb",
   "provenance": [],
   "version": "0.3.2",
   "views": {}
  },
  "kernelspec": {
   "display_name": "Python 3",
   "language": "python",
   "name": "python3"
  },
  "language_info": {
   "codemirror_mode": {
    "name": "ipython",
    "version": 3
   },
   "file_extension": ".py",
   "mimetype": "text/x-python",
   "name": "python",
   "nbconvert_exporter": "python",
   "pygments_lexer": "ipython3",
   "version": "3.6.5"
  }
 },
 "nbformat": 4,
 "nbformat_minor": 1
}
